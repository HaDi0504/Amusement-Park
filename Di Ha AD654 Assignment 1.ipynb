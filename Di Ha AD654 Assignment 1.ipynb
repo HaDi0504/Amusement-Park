{
 "cells": [
  {
   "cell_type": "code",
   "execution_count": 80,
   "id": "64584e15",
   "metadata": {},
   "outputs": [],
   "source": [
    "import numpy as np\n",
    "import pandas as pd\n",
    "import seaborn as sns\n",
    "import matplotlib.pyplot as plt\n"
   ]
  },
  {
   "cell_type": "code",
   "execution_count": 81,
   "id": "e5481b2f",
   "metadata": {},
   "outputs": [],
   "source": [
    "lobsterland = pd.read_csv(\"lobsterland_2021.csv\")"
   ]
  },
  {
   "cell_type": "code",
   "execution_count": 82,
   "id": "4a4b51c9",
   "metadata": {
    "scrolled": false
   },
   "outputs": [
    {
     "data": {
      "text/html": [
       "<div>\n",
       "<style scoped>\n",
       "    .dataframe tbody tr th:only-of-type {\n",
       "        vertical-align: middle;\n",
       "    }\n",
       "\n",
       "    .dataframe tbody tr th {\n",
       "        vertical-align: top;\n",
       "    }\n",
       "\n",
       "    .dataframe thead th {\n",
       "        text-align: right;\n",
       "    }\n",
       "</style>\n",
       "<table border=\"1\" class=\"dataframe\">\n",
       "  <thead>\n",
       "    <tr style=\"text-align: right;\">\n",
       "      <th></th>\n",
       "      <th>Date</th>\n",
       "      <th>Day.of.Week</th>\n",
       "      <th>Max</th>\n",
       "      <th>Average</th>\n",
       "      <th>Min</th>\n",
       "      <th>Precip</th>\n",
       "      <th>DayPass</th>\n",
       "      <th>UniqueVisitor</th>\n",
       "      <th>AvgDuration</th>\n",
       "      <th>ParkingRev</th>\n",
       "      <th>SnackShackRev</th>\n",
       "      <th>LobsteramaRev</th>\n",
       "      <th>GoldZoneRev</th>\n",
       "      <th>MerchRev</th>\n",
       "      <th>StaffHours</th>\n",
       "      <th>Sign_Ups2022</th>\n",
       "      <th>Fireworks</th>\n",
       "      <th>Spec_Event</th>\n",
       "      <th>DailyGrossRev</th>\n",
       "      <th>day_type</th>\n",
       "    </tr>\n",
       "  </thead>\n",
       "  <tbody>\n",
       "    <tr>\n",
       "      <th>0</th>\n",
       "      <td>2021-05-31</td>\n",
       "      <td>Monday</td>\n",
       "      <td>59</td>\n",
       "      <td>53.5</td>\n",
       "      <td>47</td>\n",
       "      <td>0.90</td>\n",
       "      <td>3261</td>\n",
       "      <td>4024</td>\n",
       "      <td>328</td>\n",
       "      <td>15212.86</td>\n",
       "      <td>18532.06</td>\n",
       "      <td>29971.82</td>\n",
       "      <td>26283.73</td>\n",
       "      <td>34775.54</td>\n",
       "      <td>922.846054</td>\n",
       "      <td>32</td>\n",
       "      <td>1</td>\n",
       "      <td>1</td>\n",
       "      <td>138250.61</td>\n",
       "      <td>Partly Sunny</td>\n",
       "    </tr>\n",
       "    <tr>\n",
       "      <th>1</th>\n",
       "      <td>2021-06-01</td>\n",
       "      <td>Tuesday</td>\n",
       "      <td>77</td>\n",
       "      <td>63.2</td>\n",
       "      <td>47</td>\n",
       "      <td>0.02</td>\n",
       "      <td>2263</td>\n",
       "      <td>2646</td>\n",
       "      <td>376</td>\n",
       "      <td>9323.06</td>\n",
       "      <td>11359.90</td>\n",
       "      <td>18367.60</td>\n",
       "      <td>16113.23</td>\n",
       "      <td>21315.35</td>\n",
       "      <td>565.828102</td>\n",
       "      <td>19</td>\n",
       "      <td>0</td>\n",
       "      <td>1</td>\n",
       "      <td>103408.71</td>\n",
       "      <td>Very Sunny</td>\n",
       "    </tr>\n",
       "    <tr>\n",
       "      <th>2</th>\n",
       "      <td>2021-06-02</td>\n",
       "      <td>Wednesday</td>\n",
       "      <td>77</td>\n",
       "      <td>64.7</td>\n",
       "      <td>49</td>\n",
       "      <td>0.00</td>\n",
       "      <td>2731</td>\n",
       "      <td>2936</td>\n",
       "      <td>318</td>\n",
       "      <td>11252.19</td>\n",
       "      <td>13711.52</td>\n",
       "      <td>22178.14</td>\n",
       "      <td>19444.90</td>\n",
       "      <td>25726.56</td>\n",
       "      <td>682.831533</td>\n",
       "      <td>22</td>\n",
       "      <td>0</td>\n",
       "      <td>4</td>\n",
       "      <td>102285.09</td>\n",
       "      <td>Very Rainy</td>\n",
       "    </tr>\n",
       "    <tr>\n",
       "      <th>3</th>\n",
       "      <td>2021-06-03</td>\n",
       "      <td>Thursday</td>\n",
       "      <td>68</td>\n",
       "      <td>62.7</td>\n",
       "      <td>58</td>\n",
       "      <td>NaN</td>\n",
       "      <td>2879</td>\n",
       "      <td>3196</td>\n",
       "      <td>485</td>\n",
       "      <td>11861.30</td>\n",
       "      <td>14452.55</td>\n",
       "      <td>23377.00</td>\n",
       "      <td>20499.36</td>\n",
       "      <td>27120.90</td>\n",
       "      <td>719.770323</td>\n",
       "      <td>25</td>\n",
       "      <td>0</td>\n",
       "      <td>4</td>\n",
       "      <td>107836.25</td>\n",
       "      <td>Partly Cloudy</td>\n",
       "    </tr>\n",
       "    <tr>\n",
       "      <th>4</th>\n",
       "      <td>2021-06-04</td>\n",
       "      <td>Monday</td>\n",
       "      <td>93</td>\n",
       "      <td>80.5</td>\n",
       "      <td>64</td>\n",
       "      <td>0.00</td>\n",
       "      <td>2118</td>\n",
       "      <td>2334</td>\n",
       "      <td>240</td>\n",
       "      <td>8727.01</td>\n",
       "      <td>10630.80</td>\n",
       "      <td>17194.67</td>\n",
       "      <td>15080.27</td>\n",
       "      <td>19952.06</td>\n",
       "      <td>529.510078</td>\n",
       "      <td>18</td>\n",
       "      <td>0</td>\n",
       "      <td>3</td>\n",
       "      <td>79321.23</td>\n",
       "      <td>Very Sunny</td>\n",
       "    </tr>\n",
       "  </tbody>\n",
       "</table>\n",
       "</div>"
      ],
      "text/plain": [
       "         Date Day.of.Week  Max  Average  Min  Precip  DayPass  UniqueVisitor  \\\n",
       "0  2021-05-31      Monday   59     53.5   47    0.90     3261           4024   \n",
       "1  2021-06-01     Tuesday   77     63.2   47    0.02     2263           2646   \n",
       "2  2021-06-02   Wednesday   77     64.7   49    0.00     2731           2936   \n",
       "3  2021-06-03    Thursday   68     62.7   58     NaN     2879           3196   \n",
       "4  2021-06-04      Monday   93     80.5   64    0.00     2118           2334   \n",
       "\n",
       "   AvgDuration  ParkingRev  SnackShackRev  LobsteramaRev  GoldZoneRev  \\\n",
       "0          328    15212.86       18532.06       29971.82     26283.73   \n",
       "1          376     9323.06       11359.90       18367.60     16113.23   \n",
       "2          318    11252.19       13711.52       22178.14     19444.90   \n",
       "3          485    11861.30       14452.55       23377.00     20499.36   \n",
       "4          240     8727.01       10630.80       17194.67     15080.27   \n",
       "\n",
       "   MerchRev  StaffHours  Sign_Ups2022  Fireworks  Spec_Event  DailyGrossRev  \\\n",
       "0  34775.54  922.846054            32          1           1      138250.61   \n",
       "1  21315.35  565.828102            19          0           1      103408.71   \n",
       "2  25726.56  682.831533            22          0           4      102285.09   \n",
       "3  27120.90  719.770323            25          0           4      107836.25   \n",
       "4  19952.06  529.510078            18          0           3       79321.23   \n",
       "\n",
       "        day_type  \n",
       "0   Partly Sunny  \n",
       "1     Very Sunny  \n",
       "2     Very Rainy  \n",
       "3  Partly Cloudy  \n",
       "4     Very Sunny  "
      ]
     },
     "execution_count": 82,
     "metadata": {},
     "output_type": "execute_result"
    }
   ],
   "source": [
    "lobsterland.head()"
   ]
  },
  {
   "cell_type": "markdown",
   "id": "d6785825",
   "metadata": {},
   "source": [
    "Question#2\n",
    "  A.Called head() function\n",
    "  B.5 rows are visible"
   ]
  },
  {
   "cell_type": "code",
   "execution_count": 83,
   "id": "4a97997a",
   "metadata": {},
   "outputs": [
    {
     "data": {
      "text/plain": [
       "(99, 20)"
      ]
     },
     "execution_count": 83,
     "metadata": {},
     "output_type": "execute_result"
    }
   ],
   "source": [
    "lobsterland.shape"
   ]
  },
  {
   "cell_type": "markdown",
   "id": "0eaa038f",
   "metadata": {},
   "source": [
    "C.There are 99 rows and 20 column"
   ]
  },
  {
   "cell_type": "code",
   "execution_count": 84,
   "id": "6f1424bd",
   "metadata": {
    "scrolled": true
   },
   "outputs": [
    {
     "data": {
      "text/html": [
       "<div>\n",
       "<style scoped>\n",
       "    .dataframe tbody tr th:only-of-type {\n",
       "        vertical-align: middle;\n",
       "    }\n",
       "\n",
       "    .dataframe tbody tr th {\n",
       "        vertical-align: top;\n",
       "    }\n",
       "\n",
       "    .dataframe thead th {\n",
       "        text-align: right;\n",
       "    }\n",
       "</style>\n",
       "<table border=\"1\" class=\"dataframe\">\n",
       "  <thead>\n",
       "    <tr style=\"text-align: right;\">\n",
       "      <th></th>\n",
       "      <th>Spec_Event</th>\n",
       "    </tr>\n",
       "  </thead>\n",
       "  <tbody>\n",
       "    <tr>\n",
       "      <th>count</th>\n",
       "      <td>99.000000</td>\n",
       "    </tr>\n",
       "    <tr>\n",
       "      <th>mean</th>\n",
       "      <td>3.575758</td>\n",
       "    </tr>\n",
       "    <tr>\n",
       "      <th>std</th>\n",
       "      <td>1.761788</td>\n",
       "    </tr>\n",
       "    <tr>\n",
       "      <th>min</th>\n",
       "      <td>1.000000</td>\n",
       "    </tr>\n",
       "    <tr>\n",
       "      <th>25%</th>\n",
       "      <td>2.000000</td>\n",
       "    </tr>\n",
       "    <tr>\n",
       "      <th>50%</th>\n",
       "      <td>4.000000</td>\n",
       "    </tr>\n",
       "    <tr>\n",
       "      <th>75%</th>\n",
       "      <td>5.000000</td>\n",
       "    </tr>\n",
       "    <tr>\n",
       "      <th>max</th>\n",
       "      <td>6.000000</td>\n",
       "    </tr>\n",
       "  </tbody>\n",
       "</table>\n",
       "</div>"
      ],
      "text/plain": [
       "       Spec_Event\n",
       "count   99.000000\n",
       "mean     3.575758\n",
       "std      1.761788\n",
       "min      1.000000\n",
       "25%      2.000000\n",
       "50%      4.000000\n",
       "75%      5.000000\n",
       "max      6.000000"
      ]
     },
     "execution_count": 84,
     "metadata": {},
     "output_type": "execute_result"
    }
   ],
   "source": [
    "SpecialE = lobsterland[['Spec_Event']]\n",
    "SpecialE.describe()"
   ]
  },
  {
   "cell_type": "markdown",
   "id": "a50252b8",
   "metadata": {},
   "source": [
    "D.\n",
    " a) categorical\n",
    " b) Described data are listed above"
   ]
  },
  {
   "cell_type": "code",
   "execution_count": 85,
   "id": "f4eeacc8",
   "metadata": {},
   "outputs": [
    {
     "data": {
      "text/plain": [
       "Spec_Event    category\n",
       "dtype: object"
      ]
     },
     "execution_count": 85,
     "metadata": {},
     "output_type": "execute_result"
    }
   ],
   "source": [
    "lobsterland[['Spec_Event']]=pd.Categorical(lobsterland.Spec_Event)\n",
    "lobsterland[['Spec_Event']].dtypes"
   ]
  },
  {
   "cell_type": "code",
   "execution_count": null,
   "id": "bf5d2ec9",
   "metadata": {
    "scrolled": true
   },
   "outputs": [],
   "source": []
  },
  {
   "cell_type": "code",
   "execution_count": null,
   "id": "7a1e631b",
   "metadata": {},
   "outputs": [],
   "source": []
  },
  {
   "cell_type": "markdown",
   "id": "de6ed44f",
   "metadata": {},
   "source": [
    "C)Covert Special events variable into categorical variable"
   ]
  },
  {
   "cell_type": "code",
   "execution_count": 86,
   "id": "4bb10528",
   "metadata": {},
   "outputs": [
    {
     "data": {
      "text/plain": [
       "Spec_Event\n",
       "5             29\n",
       "1             18\n",
       "2             15\n",
       "3             15\n",
       "6             14\n",
       "4              8\n",
       "dtype: int64"
      ]
     },
     "execution_count": 86,
     "metadata": {},
     "output_type": "execute_result"
    }
   ],
   "source": [
    "SpecialE.value_counts()"
   ]
  },
  {
   "cell_type": "markdown",
   "id": "c85a1ca5",
   "metadata": {},
   "source": [
    "d)showed above\n",
    "e)step b showed std,mean,min,max,25%,50%,75%, these are the information that Python calculated. Step d counts all the days that have 5(1,2,3,6,4) events.In another word, it shows us that 29 days have 5 events, 18 days have 1 event and so on."
   ]
  },
  {
   "cell_type": "code",
   "execution_count": 87,
   "id": "616f3110",
   "metadata": {},
   "outputs": [
    {
     "data": {
      "text/plain": [
       "Date             0\n",
       "Day.of.Week      0\n",
       "Max              0\n",
       "Average          0\n",
       "Min              0\n",
       "Precip           6\n",
       "DayPass          0\n",
       "UniqueVisitor    0\n",
       "AvgDuration      0\n",
       "ParkingRev       0\n",
       "SnackShackRev    0\n",
       "LobsteramaRev    0\n",
       "GoldZoneRev      0\n",
       "MerchRev         0\n",
       "StaffHours       0\n",
       "Sign_Ups2022     0\n",
       "Fireworks        0\n",
       "Spec_Event       0\n",
       "DailyGrossRev    0\n",
       "day_type         0\n",
       "dtype: int64"
      ]
     },
     "execution_count": 87,
     "metadata": {},
     "output_type": "execute_result"
    }
   ],
   "source": [
    "lobsterland.isnull().sum()"
   ]
  },
  {
   "cell_type": "code",
   "execution_count": 88,
   "id": "21bf8660",
   "metadata": {},
   "outputs": [
    {
     "data": {
      "text/plain": [
       "Date             0\n",
       "Day.of.Week      0\n",
       "Max              0\n",
       "Average          0\n",
       "Min              0\n",
       "Precip           0\n",
       "DayPass          0\n",
       "UniqueVisitor    0\n",
       "AvgDuration      0\n",
       "ParkingRev       0\n",
       "SnackShackRev    0\n",
       "LobsteramaRev    0\n",
       "GoldZoneRev      0\n",
       "MerchRev         0\n",
       "StaffHours       0\n",
       "Sign_Ups2022     0\n",
       "Fireworks        0\n",
       "Spec_Event       0\n",
       "DailyGrossRev    0\n",
       "day_type         0\n",
       "dtype: int64"
      ]
     },
     "execution_count": 88,
     "metadata": {},
     "output_type": "execute_result"
    }
   ],
   "source": [
    "Precip=lobsterland[['Precip']]\n",
    "lobsterland['Precip']=lobsterland['Precip'].fillna(0)\n",
    "lobsterland.isnull().sum()"
   ]
  },
  {
   "cell_type": "markdown",
   "id": "e04c4ae3",
   "metadata": {},
   "source": [
    "E\n",
    "a)As shown above, using isnull().sum()\n",
    "b)It assesses the amount of rainfall in that day, the average of all the data under Precip has no meaning, replacing null with 0 won't cause misunderstanding on the data. Moreover, Weather is unpredictable by just using described data such as mean, sd, min, and max, when we have null under Precip, we can assume the day without rainfall, and not affecting overall data analysis."
   ]
  },
  {
   "cell_type": "code",
   "execution_count": 89,
   "id": "b5794662",
   "metadata": {},
   "outputs": [
    {
     "data": {
      "text/html": [
       "<div>\n",
       "<style scoped>\n",
       "    .dataframe tbody tr th:only-of-type {\n",
       "        vertical-align: middle;\n",
       "    }\n",
       "\n",
       "    .dataframe tbody tr th {\n",
       "        vertical-align: top;\n",
       "    }\n",
       "\n",
       "    .dataframe thead th {\n",
       "        text-align: right;\n",
       "    }\n",
       "</style>\n",
       "<table border=\"1\" class=\"dataframe\">\n",
       "  <thead>\n",
       "    <tr style=\"text-align: right;\">\n",
       "      <th></th>\n",
       "      <th>Min</th>\n",
       "    </tr>\n",
       "  </thead>\n",
       "  <tbody>\n",
       "    <tr>\n",
       "      <th>0</th>\n",
       "      <td>51</td>\n",
       "    </tr>\n",
       "    <tr>\n",
       "      <th>1</th>\n",
       "      <td>51</td>\n",
       "    </tr>\n",
       "    <tr>\n",
       "      <th>2</th>\n",
       "      <td>51</td>\n",
       "    </tr>\n",
       "    <tr>\n",
       "      <th>3</th>\n",
       "      <td>58</td>\n",
       "    </tr>\n",
       "    <tr>\n",
       "      <th>4</th>\n",
       "      <td>64</td>\n",
       "    </tr>\n",
       "    <tr>\n",
       "      <th>...</th>\n",
       "      <td>...</td>\n",
       "    </tr>\n",
       "    <tr>\n",
       "      <th>94</th>\n",
       "      <td>61</td>\n",
       "    </tr>\n",
       "    <tr>\n",
       "      <th>95</th>\n",
       "      <td>54</td>\n",
       "    </tr>\n",
       "    <tr>\n",
       "      <th>96</th>\n",
       "      <td>55</td>\n",
       "    </tr>\n",
       "    <tr>\n",
       "      <th>97</th>\n",
       "      <td>51</td>\n",
       "    </tr>\n",
       "    <tr>\n",
       "      <th>98</th>\n",
       "      <td>60</td>\n",
       "    </tr>\n",
       "  </tbody>\n",
       "</table>\n",
       "<p>99 rows × 1 columns</p>\n",
       "</div>"
      ],
      "text/plain": [
       "    Min\n",
       "0    51\n",
       "1    51\n",
       "2    51\n",
       "3    58\n",
       "4    64\n",
       "..  ...\n",
       "94   61\n",
       "95   54\n",
       "96   55\n",
       "97   51\n",
       "98   60\n",
       "\n",
       "[99 rows x 1 columns]"
      ]
     },
     "execution_count": 89,
     "metadata": {},
     "output_type": "execute_result"
    }
   ],
   "source": [
    "lobsterland[['Min']] = lobsterland[['Min']].apply(lambda x: [Min if Min >= 51 else 51 for Min in x])\n",
    "lobsterland[['Min']]"
   ]
  },
  {
   "cell_type": "markdown",
   "id": "6ebef2e8",
   "metadata": {},
   "source": [
    "G.numbers are less than 51 are converted to 51"
   ]
  },
  {
   "cell_type": "code",
   "execution_count": 90,
   "id": "01184008",
   "metadata": {},
   "outputs": [
    {
     "data": {
      "text/html": [
       "<div>\n",
       "<style scoped>\n",
       "    .dataframe tbody tr th:only-of-type {\n",
       "        vertical-align: middle;\n",
       "    }\n",
       "\n",
       "    .dataframe tbody tr th {\n",
       "        vertical-align: top;\n",
       "    }\n",
       "\n",
       "    .dataframe thead th {\n",
       "        text-align: right;\n",
       "    }\n",
       "</style>\n",
       "<table border=\"1\" class=\"dataframe\">\n",
       "  <thead>\n",
       "    <tr style=\"text-align: right;\">\n",
       "      <th></th>\n",
       "      <th>Date</th>\n",
       "      <th>Day.of.Week</th>\n",
       "      <th>Max</th>\n",
       "      <th>Average</th>\n",
       "      <th>Min</th>\n",
       "      <th>Precip</th>\n",
       "      <th>DayPass</th>\n",
       "      <th>UniqueVisitor</th>\n",
       "      <th>AvgDuration</th>\n",
       "      <th>ParkingRev</th>\n",
       "      <th>SnackShackRev</th>\n",
       "      <th>LobsteramaRev</th>\n",
       "      <th>GoldZoneRev</th>\n",
       "      <th>MerchRev</th>\n",
       "      <th>StaffHours</th>\n",
       "      <th>Sign_Ups2022</th>\n",
       "      <th>Fireworks</th>\n",
       "      <th>Spec_Event</th>\n",
       "      <th>DailyGrossRev</th>\n",
       "      <th>day_type</th>\n",
       "    </tr>\n",
       "  </thead>\n",
       "  <tbody>\n",
       "    <tr>\n",
       "      <th>95</th>\n",
       "      <td>2021-09-03</td>\n",
       "      <td>Friday</td>\n",
       "      <td>72</td>\n",
       "      <td>63.40</td>\n",
       "      <td>54</td>\n",
       "      <td>0.00</td>\n",
       "      <td>4494</td>\n",
       "      <td>5108</td>\n",
       "      <td>289</td>\n",
       "      <td>18514.43</td>\n",
       "      <td>22563.10</td>\n",
       "      <td>40984.81</td>\n",
       "      <td>40982.92</td>\n",
       "      <td>51518.10</td>\n",
       "      <td>1123.555994</td>\n",
       "      <td>93</td>\n",
       "      <td>0</td>\n",
       "      <td>1</td>\n",
       "      <td>165643.57</td>\n",
       "      <td>Overcast</td>\n",
       "    </tr>\n",
       "    <tr>\n",
       "      <th>96</th>\n",
       "      <td>2021-09-04</td>\n",
       "      <td>Saturday</td>\n",
       "      <td>75</td>\n",
       "      <td>64.50</td>\n",
       "      <td>55</td>\n",
       "      <td>0.00</td>\n",
       "      <td>4200</td>\n",
       "      <td>5066</td>\n",
       "      <td>375</td>\n",
       "      <td>17304.08</td>\n",
       "      <td>21087.59</td>\n",
       "      <td>38308.28</td>\n",
       "      <td>38304.65</td>\n",
       "      <td>48504.75</td>\n",
       "      <td>1050.101320</td>\n",
       "      <td>77</td>\n",
       "      <td>1</td>\n",
       "      <td>2</td>\n",
       "      <td>154805.40</td>\n",
       "      <td>Partly Sunny</td>\n",
       "    </tr>\n",
       "    <tr>\n",
       "      <th>97</th>\n",
       "      <td>2021-09-05</td>\n",
       "      <td>Sunday</td>\n",
       "      <td>68</td>\n",
       "      <td>60.70</td>\n",
       "      <td>51</td>\n",
       "      <td>0.00</td>\n",
       "      <td>4424</td>\n",
       "      <td>5482</td>\n",
       "      <td>412</td>\n",
       "      <td>18226.30</td>\n",
       "      <td>22211.07</td>\n",
       "      <td>40346.49</td>\n",
       "      <td>40348.37</td>\n",
       "      <td>52718.03</td>\n",
       "      <td>1106.061363</td>\n",
       "      <td>83</td>\n",
       "      <td>0</td>\n",
       "      <td>5</td>\n",
       "      <td>163065.68</td>\n",
       "      <td>Cloudy</td>\n",
       "    </tr>\n",
       "    <tr>\n",
       "      <th>98</th>\n",
       "      <td>2021-09-06</td>\n",
       "      <td>Monday</td>\n",
       "      <td>76</td>\n",
       "      <td>66.58</td>\n",
       "      <td>60</td>\n",
       "      <td>0.19</td>\n",
       "      <td>5112</td>\n",
       "      <td>5570</td>\n",
       "      <td>471</td>\n",
       "      <td>18407.56</td>\n",
       "      <td>19829.31</td>\n",
       "      <td>55447.87</td>\n",
       "      <td>40739.78</td>\n",
       "      <td>49912.88</td>\n",
       "      <td>1033.587580</td>\n",
       "      <td>129</td>\n",
       "      <td>1</td>\n",
       "      <td>1</td>\n",
       "      <td>138250.61</td>\n",
       "      <td>Very Sunny</td>\n",
       "    </tr>\n",
       "  </tbody>\n",
       "</table>\n",
       "</div>"
      ],
      "text/plain": [
       "          Date Day.of.Week  Max  Average  Min  Precip  DayPass  UniqueVisitor  \\\n",
       "95  2021-09-03      Friday   72    63.40   54    0.00     4494           5108   \n",
       "96  2021-09-04    Saturday   75    64.50   55    0.00     4200           5066   \n",
       "97  2021-09-05      Sunday   68    60.70   51    0.00     4424           5482   \n",
       "98  2021-09-06      Monday   76    66.58   60    0.19     5112           5570   \n",
       "\n",
       "    AvgDuration  ParkingRev  SnackShackRev  LobsteramaRev  GoldZoneRev  \\\n",
       "95          289    18514.43       22563.10       40984.81     40982.92   \n",
       "96          375    17304.08       21087.59       38308.28     38304.65   \n",
       "97          412    18226.30       22211.07       40346.49     40348.37   \n",
       "98          471    18407.56       19829.31       55447.87     40739.78   \n",
       "\n",
       "    MerchRev   StaffHours  Sign_Ups2022  Fireworks Spec_Event  DailyGrossRev  \\\n",
       "95  51518.10  1123.555994            93          0          1      165643.57   \n",
       "96  48504.75  1050.101320            77          1          2      154805.40   \n",
       "97  52718.03  1106.061363            83          0          5      163065.68   \n",
       "98  49912.88  1033.587580           129          1          1      138250.61   \n",
       "\n",
       "        day_type  \n",
       "95      Overcast  \n",
       "96  Partly Sunny  \n",
       "97        Cloudy  \n",
       "98    Very Sunny  "
      ]
     },
     "execution_count": 90,
     "metadata": {},
     "output_type": "execute_result"
    }
   ],
   "source": [
    "LDE=lobsterland.iloc[-4:]\n",
    "LDE"
   ]
  },
  {
   "cell_type": "code",
   "execution_count": 91,
   "id": "bac8b949",
   "metadata": {},
   "outputs": [
    {
     "data": {
      "text/plain": [
       "Max                  76.797980\n",
       "Average              68.191717\n",
       "Min                  60.515152\n",
       "Precip                0.156465\n",
       "DayPass            3241.111111\n",
       "UniqueVisitor      3757.696970\n",
       "AvgDuration         337.141414\n",
       "ParkingRev        13344.433939\n",
       "SnackShackRev     16233.011010\n",
       "LobsteramaRev     28292.904646\n",
       "GoldZoneRev       26749.907273\n",
       "MerchRev          32051.397475\n",
       "StaffHours          808.894626\n",
       "Sign_Ups2022         44.636364\n",
       "Fireworks             0.252525\n",
       "DailyGrossRev    120135.184444\n",
       "dtype: float64"
      ]
     },
     "execution_count": 91,
     "metadata": {},
     "output_type": "execute_result"
    }
   ],
   "source": [
    "lobsterland.mean()"
   ]
  },
  {
   "cell_type": "markdown",
   "id": "870ea107",
   "metadata": {},
   "source": [
    "H.\n",
    "a)Comparing to the overall average of the dataset, the Labor Day Effect brought Daypass up in a significant number. Average Dayapss is about3241, but over the last four days of labor-day, day pass increased to above 4000, and on the last day of the holiday, its day pass number even increased to 5112. Unique visitors are also increased dramatically. Because of the increasing of visitors, all the revenues shown above such as parking revenue, snack shack rev, and so on are increased dramatically, staff hours also increased because more visitors needed to be served,and more people in the park also drives up sighn_ups 2022. "
   ]
  },
  {
   "cell_type": "markdown",
   "id": "4b66e0d5",
   "metadata": {},
   "source": [
    "b)2022 sign-ups seem to stand out the most. First of all, when more people are in the park, more people would know about sign-ups in 2022 and purchase them. Second of all, the Herd effect also affects the sign-ups 2022, people are more willing to sign up when they see many others are signing up. Third of all, During the holiday, people are more willing to spend money."
   ]
  },
  {
   "cell_type": "code",
   "execution_count": 92,
   "id": "1f347894",
   "metadata": {},
   "outputs": [
    {
     "data": {
      "text/plain": [
       "day_type     \n",
       "Overcast         17\n",
       "Cloudy           16\n",
       "Partly Sunny     15\n",
       "Partly Cloudy    13\n",
       "Rainy            11\n",
       "Very Sunny       10\n",
       "Sunny             9\n",
       "Very Rainy        8\n",
       "dtype: int64"
      ]
     },
     "execution_count": 92,
     "metadata": {},
     "output_type": "execute_result"
    }
   ],
   "source": [
    "Daytype=lobsterland[['day_type']]\n",
    "Daytype.value_counts()"
   ]
  },
  {
   "cell_type": "code",
   "execution_count": 93,
   "id": "3728c89a",
   "metadata": {},
   "outputs": [
    {
     "data": {
      "text/plain": [
       "day_type     \n",
       "Overcast         17\n",
       "Cloudy           16\n",
       "Partly Sunny     15\n",
       "Partly Cloudy    13\n",
       "Rainy            11\n",
       "Very Sunny       10\n",
       "Sunny             9\n",
       "Very Rainy        8\n",
       "dtype: int64"
      ]
     },
     "execution_count": 93,
     "metadata": {},
     "output_type": "execute_result"
    }
   ],
   "source": [
    "lobsterland[['day_type']] = lobsterland[['day_type']].replace(['Overcast','Partly Cloudy','Cloudy'],'Sunless')\n",
    "lobsterland[['day_type']] = lobsterland[['day_type']].replace(['Partly Sunny','Very Sunny','Sunny'],'Sunshine')\n",
    "lobsterland[['day_type']] = lobsterland[['day_type']].replace(['Rainy','Very Rainy'],'Rain')\n",
    "Daytype.value_counts()"
   ]
  },
  {
   "cell_type": "markdown",
   "id": "3a3a0904",
   "metadata": {},
   "source": [
    "I.\n",
    "a)are shown above\n",
    "b) Firstly, it is better for user to extract the information they need. Some people only care if it is raining, so they can bring umbrellas, some care about sunshine,they can put on sunscream before leaving home, and etc. Secondly, it is better for visulazition, less level of factor variable can be read easier and more clearly."
   ]
  },
  {
   "cell_type": "code",
   "execution_count": 94,
   "id": "500515f3",
   "metadata": {},
   "outputs": [],
   "source": [
    "del lobsterland['Max']"
   ]
  },
  {
   "cell_type": "code",
   "execution_count": 95,
   "id": "5c30aee1",
   "metadata": {},
   "outputs": [
    {
     "data": {
      "text/html": [
       "<div>\n",
       "<style scoped>\n",
       "    .dataframe tbody tr th:only-of-type {\n",
       "        vertical-align: middle;\n",
       "    }\n",
       "\n",
       "    .dataframe tbody tr th {\n",
       "        vertical-align: top;\n",
       "    }\n",
       "\n",
       "    .dataframe thead th {\n",
       "        text-align: right;\n",
       "    }\n",
       "</style>\n",
       "<table border=\"1\" class=\"dataframe\">\n",
       "  <thead>\n",
       "    <tr style=\"text-align: right;\">\n",
       "      <th></th>\n",
       "      <th>Date</th>\n",
       "      <th>Day.of.Week</th>\n",
       "      <th>Average</th>\n",
       "      <th>Min</th>\n",
       "      <th>Precip</th>\n",
       "      <th>DayPass</th>\n",
       "      <th>UniqueVisitor</th>\n",
       "      <th>AvgDuration</th>\n",
       "      <th>ParkingRev</th>\n",
       "      <th>SnackShackRev</th>\n",
       "      <th>LobsteramaRev</th>\n",
       "      <th>GoldZoneRev</th>\n",
       "      <th>MerchRev</th>\n",
       "      <th>StaffHours</th>\n",
       "      <th>Sign_Ups2022</th>\n",
       "      <th>Fireworks</th>\n",
       "      <th>Spec_Event</th>\n",
       "      <th>DailyGrossRev</th>\n",
       "      <th>day_type</th>\n",
       "    </tr>\n",
       "  </thead>\n",
       "  <tbody>\n",
       "    <tr>\n",
       "      <th>0</th>\n",
       "      <td>2021-05-31</td>\n",
       "      <td>Monday</td>\n",
       "      <td>53.50</td>\n",
       "      <td>51</td>\n",
       "      <td>0.90</td>\n",
       "      <td>3261</td>\n",
       "      <td>4024</td>\n",
       "      <td>328</td>\n",
       "      <td>15212.86</td>\n",
       "      <td>18532.06</td>\n",
       "      <td>29971.82</td>\n",
       "      <td>26283.73</td>\n",
       "      <td>34775.54</td>\n",
       "      <td>922.846054</td>\n",
       "      <td>32</td>\n",
       "      <td>1</td>\n",
       "      <td>1</td>\n",
       "      <td>138250.61</td>\n",
       "      <td>Sunshine</td>\n",
       "    </tr>\n",
       "    <tr>\n",
       "      <th>1</th>\n",
       "      <td>2021-06-01</td>\n",
       "      <td>Tuesday</td>\n",
       "      <td>63.20</td>\n",
       "      <td>51</td>\n",
       "      <td>0.02</td>\n",
       "      <td>2263</td>\n",
       "      <td>2646</td>\n",
       "      <td>376</td>\n",
       "      <td>9323.06</td>\n",
       "      <td>11359.90</td>\n",
       "      <td>18367.60</td>\n",
       "      <td>16113.23</td>\n",
       "      <td>21315.35</td>\n",
       "      <td>565.828102</td>\n",
       "      <td>19</td>\n",
       "      <td>0</td>\n",
       "      <td>1</td>\n",
       "      <td>103408.71</td>\n",
       "      <td>Sunshine</td>\n",
       "    </tr>\n",
       "    <tr>\n",
       "      <th>2</th>\n",
       "      <td>2021-06-02</td>\n",
       "      <td>Wednesday</td>\n",
       "      <td>64.70</td>\n",
       "      <td>51</td>\n",
       "      <td>0.00</td>\n",
       "      <td>2731</td>\n",
       "      <td>2936</td>\n",
       "      <td>318</td>\n",
       "      <td>11252.19</td>\n",
       "      <td>13711.52</td>\n",
       "      <td>22178.14</td>\n",
       "      <td>19444.90</td>\n",
       "      <td>25726.56</td>\n",
       "      <td>682.831533</td>\n",
       "      <td>22</td>\n",
       "      <td>0</td>\n",
       "      <td>4</td>\n",
       "      <td>102285.09</td>\n",
       "      <td>Rain</td>\n",
       "    </tr>\n",
       "    <tr>\n",
       "      <th>3</th>\n",
       "      <td>2021-06-03</td>\n",
       "      <td>Thursday</td>\n",
       "      <td>62.70</td>\n",
       "      <td>58</td>\n",
       "      <td>0.00</td>\n",
       "      <td>2879</td>\n",
       "      <td>3196</td>\n",
       "      <td>485</td>\n",
       "      <td>11861.30</td>\n",
       "      <td>14452.55</td>\n",
       "      <td>23377.00</td>\n",
       "      <td>20499.36</td>\n",
       "      <td>27120.90</td>\n",
       "      <td>719.770323</td>\n",
       "      <td>25</td>\n",
       "      <td>0</td>\n",
       "      <td>4</td>\n",
       "      <td>107836.25</td>\n",
       "      <td>Sunless</td>\n",
       "    </tr>\n",
       "    <tr>\n",
       "      <th>4</th>\n",
       "      <td>2021-06-04</td>\n",
       "      <td>Monday</td>\n",
       "      <td>80.50</td>\n",
       "      <td>64</td>\n",
       "      <td>0.00</td>\n",
       "      <td>2118</td>\n",
       "      <td>2334</td>\n",
       "      <td>240</td>\n",
       "      <td>8727.01</td>\n",
       "      <td>10630.80</td>\n",
       "      <td>17194.67</td>\n",
       "      <td>15080.27</td>\n",
       "      <td>19952.06</td>\n",
       "      <td>529.510078</td>\n",
       "      <td>18</td>\n",
       "      <td>0</td>\n",
       "      <td>3</td>\n",
       "      <td>79321.23</td>\n",
       "      <td>Sunshine</td>\n",
       "    </tr>\n",
       "    <tr>\n",
       "      <th>...</th>\n",
       "      <td>...</td>\n",
       "      <td>...</td>\n",
       "      <td>...</td>\n",
       "      <td>...</td>\n",
       "      <td>...</td>\n",
       "      <td>...</td>\n",
       "      <td>...</td>\n",
       "      <td>...</td>\n",
       "      <td>...</td>\n",
       "      <td>...</td>\n",
       "      <td>...</td>\n",
       "      <td>...</td>\n",
       "      <td>...</td>\n",
       "      <td>...</td>\n",
       "      <td>...</td>\n",
       "      <td>...</td>\n",
       "      <td>...</td>\n",
       "      <td>...</td>\n",
       "      <td>...</td>\n",
       "    </tr>\n",
       "    <tr>\n",
       "      <th>94</th>\n",
       "      <td>2021-09-02</td>\n",
       "      <td>Sunday</td>\n",
       "      <td>64.50</td>\n",
       "      <td>61</td>\n",
       "      <td>0.00</td>\n",
       "      <td>4653</td>\n",
       "      <td>5425</td>\n",
       "      <td>347</td>\n",
       "      <td>19170.07</td>\n",
       "      <td>23357.02</td>\n",
       "      <td>42436.78</td>\n",
       "      <td>42435.39</td>\n",
       "      <td>47089.31</td>\n",
       "      <td>1163.236703</td>\n",
       "      <td>77</td>\n",
       "      <td>0</td>\n",
       "      <td>5</td>\n",
       "      <td>171503.71</td>\n",
       "      <td>Rain</td>\n",
       "    </tr>\n",
       "    <tr>\n",
       "      <th>95</th>\n",
       "      <td>2021-09-03</td>\n",
       "      <td>Friday</td>\n",
       "      <td>63.40</td>\n",
       "      <td>54</td>\n",
       "      <td>0.00</td>\n",
       "      <td>4494</td>\n",
       "      <td>5108</td>\n",
       "      <td>289</td>\n",
       "      <td>18514.43</td>\n",
       "      <td>22563.10</td>\n",
       "      <td>40984.81</td>\n",
       "      <td>40982.92</td>\n",
       "      <td>51518.10</td>\n",
       "      <td>1123.555994</td>\n",
       "      <td>93</td>\n",
       "      <td>0</td>\n",
       "      <td>1</td>\n",
       "      <td>165643.57</td>\n",
       "      <td>Sunless</td>\n",
       "    </tr>\n",
       "    <tr>\n",
       "      <th>96</th>\n",
       "      <td>2021-09-04</td>\n",
       "      <td>Saturday</td>\n",
       "      <td>64.50</td>\n",
       "      <td>55</td>\n",
       "      <td>0.00</td>\n",
       "      <td>4200</td>\n",
       "      <td>5066</td>\n",
       "      <td>375</td>\n",
       "      <td>17304.08</td>\n",
       "      <td>21087.59</td>\n",
       "      <td>38308.28</td>\n",
       "      <td>38304.65</td>\n",
       "      <td>48504.75</td>\n",
       "      <td>1050.101320</td>\n",
       "      <td>77</td>\n",
       "      <td>1</td>\n",
       "      <td>2</td>\n",
       "      <td>154805.40</td>\n",
       "      <td>Sunshine</td>\n",
       "    </tr>\n",
       "    <tr>\n",
       "      <th>97</th>\n",
       "      <td>2021-09-05</td>\n",
       "      <td>Sunday</td>\n",
       "      <td>60.70</td>\n",
       "      <td>51</td>\n",
       "      <td>0.00</td>\n",
       "      <td>4424</td>\n",
       "      <td>5482</td>\n",
       "      <td>412</td>\n",
       "      <td>18226.30</td>\n",
       "      <td>22211.07</td>\n",
       "      <td>40346.49</td>\n",
       "      <td>40348.37</td>\n",
       "      <td>52718.03</td>\n",
       "      <td>1106.061363</td>\n",
       "      <td>83</td>\n",
       "      <td>0</td>\n",
       "      <td>5</td>\n",
       "      <td>163065.68</td>\n",
       "      <td>Sunless</td>\n",
       "    </tr>\n",
       "    <tr>\n",
       "      <th>98</th>\n",
       "      <td>2021-09-06</td>\n",
       "      <td>Monday</td>\n",
       "      <td>66.58</td>\n",
       "      <td>60</td>\n",
       "      <td>0.19</td>\n",
       "      <td>5112</td>\n",
       "      <td>5570</td>\n",
       "      <td>471</td>\n",
       "      <td>18407.56</td>\n",
       "      <td>19829.31</td>\n",
       "      <td>55447.87</td>\n",
       "      <td>40739.78</td>\n",
       "      <td>49912.88</td>\n",
       "      <td>1033.587580</td>\n",
       "      <td>129</td>\n",
       "      <td>1</td>\n",
       "      <td>1</td>\n",
       "      <td>138250.61</td>\n",
       "      <td>Sunshine</td>\n",
       "    </tr>\n",
       "  </tbody>\n",
       "</table>\n",
       "<p>99 rows × 19 columns</p>\n",
       "</div>"
      ],
      "text/plain": [
       "          Date Day.of.Week  Average  Min  Precip  DayPass  UniqueVisitor  \\\n",
       "0   2021-05-31      Monday    53.50   51    0.90     3261           4024   \n",
       "1   2021-06-01     Tuesday    63.20   51    0.02     2263           2646   \n",
       "2   2021-06-02   Wednesday    64.70   51    0.00     2731           2936   \n",
       "3   2021-06-03    Thursday    62.70   58    0.00     2879           3196   \n",
       "4   2021-06-04      Monday    80.50   64    0.00     2118           2334   \n",
       "..         ...         ...      ...  ...     ...      ...            ...   \n",
       "94  2021-09-02      Sunday    64.50   61    0.00     4653           5425   \n",
       "95  2021-09-03      Friday    63.40   54    0.00     4494           5108   \n",
       "96  2021-09-04    Saturday    64.50   55    0.00     4200           5066   \n",
       "97  2021-09-05      Sunday    60.70   51    0.00     4424           5482   \n",
       "98  2021-09-06      Monday    66.58   60    0.19     5112           5570   \n",
       "\n",
       "    AvgDuration  ParkingRev  SnackShackRev  LobsteramaRev  GoldZoneRev  \\\n",
       "0           328    15212.86       18532.06       29971.82     26283.73   \n",
       "1           376     9323.06       11359.90       18367.60     16113.23   \n",
       "2           318    11252.19       13711.52       22178.14     19444.90   \n",
       "3           485    11861.30       14452.55       23377.00     20499.36   \n",
       "4           240     8727.01       10630.80       17194.67     15080.27   \n",
       "..          ...         ...            ...            ...          ...   \n",
       "94          347    19170.07       23357.02       42436.78     42435.39   \n",
       "95          289    18514.43       22563.10       40984.81     40982.92   \n",
       "96          375    17304.08       21087.59       38308.28     38304.65   \n",
       "97          412    18226.30       22211.07       40346.49     40348.37   \n",
       "98          471    18407.56       19829.31       55447.87     40739.78   \n",
       "\n",
       "    MerchRev   StaffHours  Sign_Ups2022  Fireworks Spec_Event  DailyGrossRev  \\\n",
       "0   34775.54   922.846054            32          1          1      138250.61   \n",
       "1   21315.35   565.828102            19          0          1      103408.71   \n",
       "2   25726.56   682.831533            22          0          4      102285.09   \n",
       "3   27120.90   719.770323            25          0          4      107836.25   \n",
       "4   19952.06   529.510078            18          0          3       79321.23   \n",
       "..       ...          ...           ...        ...        ...            ...   \n",
       "94  47089.31  1163.236703            77          0          5      171503.71   \n",
       "95  51518.10  1123.555994            93          0          1      165643.57   \n",
       "96  48504.75  1050.101320            77          1          2      154805.40   \n",
       "97  52718.03  1106.061363            83          0          5      163065.68   \n",
       "98  49912.88  1033.587580           129          1          1      138250.61   \n",
       "\n",
       "    day_type  \n",
       "0   Sunshine  \n",
       "1   Sunshine  \n",
       "2       Rain  \n",
       "3    Sunless  \n",
       "4   Sunshine  \n",
       "..       ...  \n",
       "94      Rain  \n",
       "95   Sunless  \n",
       "96  Sunshine  \n",
       "97   Sunless  \n",
       "98  Sunshine  \n",
       "\n",
       "[99 rows x 19 columns]"
      ]
     },
     "execution_count": 95,
     "metadata": {},
     "output_type": "execute_result"
    }
   ],
   "source": [
    "lobsterland"
   ]
  },
  {
   "cell_type": "markdown",
   "id": "399d271b",
   "metadata": {},
   "source": [
    "J.Max has been removed"
   ]
  },
  {
   "cell_type": "code",
   "execution_count": 96,
   "id": "2f965f20",
   "metadata": {},
   "outputs": [],
   "source": [
    "del lobsterland['Min']"
   ]
  },
  {
   "cell_type": "code",
   "execution_count": 97,
   "id": "0493f0d1",
   "metadata": {},
   "outputs": [
    {
     "data": {
      "text/html": [
       "<div>\n",
       "<style scoped>\n",
       "    .dataframe tbody tr th:only-of-type {\n",
       "        vertical-align: middle;\n",
       "    }\n",
       "\n",
       "    .dataframe tbody tr th {\n",
       "        vertical-align: top;\n",
       "    }\n",
       "\n",
       "    .dataframe thead th {\n",
       "        text-align: right;\n",
       "    }\n",
       "</style>\n",
       "<table border=\"1\" class=\"dataframe\">\n",
       "  <thead>\n",
       "    <tr style=\"text-align: right;\">\n",
       "      <th></th>\n",
       "      <th>Date</th>\n",
       "      <th>Day.of.Week</th>\n",
       "      <th>Average</th>\n",
       "      <th>Precip</th>\n",
       "      <th>DayPass</th>\n",
       "      <th>UniqueVisitor</th>\n",
       "      <th>AvgDuration</th>\n",
       "      <th>ParkingRev</th>\n",
       "      <th>SnackShackRev</th>\n",
       "      <th>LobsteramaRev</th>\n",
       "      <th>GoldZoneRev</th>\n",
       "      <th>MerchRev</th>\n",
       "      <th>StaffHours</th>\n",
       "      <th>Sign_Ups2022</th>\n",
       "      <th>Fireworks</th>\n",
       "      <th>Spec_Event</th>\n",
       "      <th>DailyGrossRev</th>\n",
       "      <th>day_type</th>\n",
       "    </tr>\n",
       "  </thead>\n",
       "  <tbody>\n",
       "    <tr>\n",
       "      <th>0</th>\n",
       "      <td>2021-05-31</td>\n",
       "      <td>Monday</td>\n",
       "      <td>53.50</td>\n",
       "      <td>0.90</td>\n",
       "      <td>3261</td>\n",
       "      <td>4024</td>\n",
       "      <td>328</td>\n",
       "      <td>15212.86</td>\n",
       "      <td>18532.06</td>\n",
       "      <td>29971.82</td>\n",
       "      <td>26283.73</td>\n",
       "      <td>34775.54</td>\n",
       "      <td>922.846054</td>\n",
       "      <td>32</td>\n",
       "      <td>1</td>\n",
       "      <td>1</td>\n",
       "      <td>138250.61</td>\n",
       "      <td>Sunshine</td>\n",
       "    </tr>\n",
       "    <tr>\n",
       "      <th>1</th>\n",
       "      <td>2021-06-01</td>\n",
       "      <td>Tuesday</td>\n",
       "      <td>63.20</td>\n",
       "      <td>0.02</td>\n",
       "      <td>2263</td>\n",
       "      <td>2646</td>\n",
       "      <td>376</td>\n",
       "      <td>9323.06</td>\n",
       "      <td>11359.90</td>\n",
       "      <td>18367.60</td>\n",
       "      <td>16113.23</td>\n",
       "      <td>21315.35</td>\n",
       "      <td>565.828102</td>\n",
       "      <td>19</td>\n",
       "      <td>0</td>\n",
       "      <td>1</td>\n",
       "      <td>103408.71</td>\n",
       "      <td>Sunshine</td>\n",
       "    </tr>\n",
       "    <tr>\n",
       "      <th>2</th>\n",
       "      <td>2021-06-02</td>\n",
       "      <td>Wednesday</td>\n",
       "      <td>64.70</td>\n",
       "      <td>0.00</td>\n",
       "      <td>2731</td>\n",
       "      <td>2936</td>\n",
       "      <td>318</td>\n",
       "      <td>11252.19</td>\n",
       "      <td>13711.52</td>\n",
       "      <td>22178.14</td>\n",
       "      <td>19444.90</td>\n",
       "      <td>25726.56</td>\n",
       "      <td>682.831533</td>\n",
       "      <td>22</td>\n",
       "      <td>0</td>\n",
       "      <td>4</td>\n",
       "      <td>102285.09</td>\n",
       "      <td>Rain</td>\n",
       "    </tr>\n",
       "    <tr>\n",
       "      <th>3</th>\n",
       "      <td>2021-06-03</td>\n",
       "      <td>Thursday</td>\n",
       "      <td>62.70</td>\n",
       "      <td>0.00</td>\n",
       "      <td>2879</td>\n",
       "      <td>3196</td>\n",
       "      <td>485</td>\n",
       "      <td>11861.30</td>\n",
       "      <td>14452.55</td>\n",
       "      <td>23377.00</td>\n",
       "      <td>20499.36</td>\n",
       "      <td>27120.90</td>\n",
       "      <td>719.770323</td>\n",
       "      <td>25</td>\n",
       "      <td>0</td>\n",
       "      <td>4</td>\n",
       "      <td>107836.25</td>\n",
       "      <td>Sunless</td>\n",
       "    </tr>\n",
       "    <tr>\n",
       "      <th>4</th>\n",
       "      <td>2021-06-04</td>\n",
       "      <td>Monday</td>\n",
       "      <td>80.50</td>\n",
       "      <td>0.00</td>\n",
       "      <td>2118</td>\n",
       "      <td>2334</td>\n",
       "      <td>240</td>\n",
       "      <td>8727.01</td>\n",
       "      <td>10630.80</td>\n",
       "      <td>17194.67</td>\n",
       "      <td>15080.27</td>\n",
       "      <td>19952.06</td>\n",
       "      <td>529.510078</td>\n",
       "      <td>18</td>\n",
       "      <td>0</td>\n",
       "      <td>3</td>\n",
       "      <td>79321.23</td>\n",
       "      <td>Sunshine</td>\n",
       "    </tr>\n",
       "    <tr>\n",
       "      <th>...</th>\n",
       "      <td>...</td>\n",
       "      <td>...</td>\n",
       "      <td>...</td>\n",
       "      <td>...</td>\n",
       "      <td>...</td>\n",
       "      <td>...</td>\n",
       "      <td>...</td>\n",
       "      <td>...</td>\n",
       "      <td>...</td>\n",
       "      <td>...</td>\n",
       "      <td>...</td>\n",
       "      <td>...</td>\n",
       "      <td>...</td>\n",
       "      <td>...</td>\n",
       "      <td>...</td>\n",
       "      <td>...</td>\n",
       "      <td>...</td>\n",
       "      <td>...</td>\n",
       "    </tr>\n",
       "    <tr>\n",
       "      <th>94</th>\n",
       "      <td>2021-09-02</td>\n",
       "      <td>Sunday</td>\n",
       "      <td>64.50</td>\n",
       "      <td>0.00</td>\n",
       "      <td>4653</td>\n",
       "      <td>5425</td>\n",
       "      <td>347</td>\n",
       "      <td>19170.07</td>\n",
       "      <td>23357.02</td>\n",
       "      <td>42436.78</td>\n",
       "      <td>42435.39</td>\n",
       "      <td>47089.31</td>\n",
       "      <td>1163.236703</td>\n",
       "      <td>77</td>\n",
       "      <td>0</td>\n",
       "      <td>5</td>\n",
       "      <td>171503.71</td>\n",
       "      <td>Rain</td>\n",
       "    </tr>\n",
       "    <tr>\n",
       "      <th>95</th>\n",
       "      <td>2021-09-03</td>\n",
       "      <td>Friday</td>\n",
       "      <td>63.40</td>\n",
       "      <td>0.00</td>\n",
       "      <td>4494</td>\n",
       "      <td>5108</td>\n",
       "      <td>289</td>\n",
       "      <td>18514.43</td>\n",
       "      <td>22563.10</td>\n",
       "      <td>40984.81</td>\n",
       "      <td>40982.92</td>\n",
       "      <td>51518.10</td>\n",
       "      <td>1123.555994</td>\n",
       "      <td>93</td>\n",
       "      <td>0</td>\n",
       "      <td>1</td>\n",
       "      <td>165643.57</td>\n",
       "      <td>Sunless</td>\n",
       "    </tr>\n",
       "    <tr>\n",
       "      <th>96</th>\n",
       "      <td>2021-09-04</td>\n",
       "      <td>Saturday</td>\n",
       "      <td>64.50</td>\n",
       "      <td>0.00</td>\n",
       "      <td>4200</td>\n",
       "      <td>5066</td>\n",
       "      <td>375</td>\n",
       "      <td>17304.08</td>\n",
       "      <td>21087.59</td>\n",
       "      <td>38308.28</td>\n",
       "      <td>38304.65</td>\n",
       "      <td>48504.75</td>\n",
       "      <td>1050.101320</td>\n",
       "      <td>77</td>\n",
       "      <td>1</td>\n",
       "      <td>2</td>\n",
       "      <td>154805.40</td>\n",
       "      <td>Sunshine</td>\n",
       "    </tr>\n",
       "    <tr>\n",
       "      <th>97</th>\n",
       "      <td>2021-09-05</td>\n",
       "      <td>Sunday</td>\n",
       "      <td>60.70</td>\n",
       "      <td>0.00</td>\n",
       "      <td>4424</td>\n",
       "      <td>5482</td>\n",
       "      <td>412</td>\n",
       "      <td>18226.30</td>\n",
       "      <td>22211.07</td>\n",
       "      <td>40346.49</td>\n",
       "      <td>40348.37</td>\n",
       "      <td>52718.03</td>\n",
       "      <td>1106.061363</td>\n",
       "      <td>83</td>\n",
       "      <td>0</td>\n",
       "      <td>5</td>\n",
       "      <td>163065.68</td>\n",
       "      <td>Sunless</td>\n",
       "    </tr>\n",
       "    <tr>\n",
       "      <th>98</th>\n",
       "      <td>2021-09-06</td>\n",
       "      <td>Monday</td>\n",
       "      <td>66.58</td>\n",
       "      <td>0.19</td>\n",
       "      <td>5112</td>\n",
       "      <td>5570</td>\n",
       "      <td>471</td>\n",
       "      <td>18407.56</td>\n",
       "      <td>19829.31</td>\n",
       "      <td>55447.87</td>\n",
       "      <td>40739.78</td>\n",
       "      <td>49912.88</td>\n",
       "      <td>1033.587580</td>\n",
       "      <td>129</td>\n",
       "      <td>1</td>\n",
       "      <td>1</td>\n",
       "      <td>138250.61</td>\n",
       "      <td>Sunshine</td>\n",
       "    </tr>\n",
       "  </tbody>\n",
       "</table>\n",
       "<p>99 rows × 18 columns</p>\n",
       "</div>"
      ],
      "text/plain": [
       "          Date Day.of.Week  Average  Precip  DayPass  UniqueVisitor  \\\n",
       "0   2021-05-31      Monday    53.50    0.90     3261           4024   \n",
       "1   2021-06-01     Tuesday    63.20    0.02     2263           2646   \n",
       "2   2021-06-02   Wednesday    64.70    0.00     2731           2936   \n",
       "3   2021-06-03    Thursday    62.70    0.00     2879           3196   \n",
       "4   2021-06-04      Monday    80.50    0.00     2118           2334   \n",
       "..         ...         ...      ...     ...      ...            ...   \n",
       "94  2021-09-02      Sunday    64.50    0.00     4653           5425   \n",
       "95  2021-09-03      Friday    63.40    0.00     4494           5108   \n",
       "96  2021-09-04    Saturday    64.50    0.00     4200           5066   \n",
       "97  2021-09-05      Sunday    60.70    0.00     4424           5482   \n",
       "98  2021-09-06      Monday    66.58    0.19     5112           5570   \n",
       "\n",
       "    AvgDuration  ParkingRev  SnackShackRev  LobsteramaRev  GoldZoneRev  \\\n",
       "0           328    15212.86       18532.06       29971.82     26283.73   \n",
       "1           376     9323.06       11359.90       18367.60     16113.23   \n",
       "2           318    11252.19       13711.52       22178.14     19444.90   \n",
       "3           485    11861.30       14452.55       23377.00     20499.36   \n",
       "4           240     8727.01       10630.80       17194.67     15080.27   \n",
       "..          ...         ...            ...            ...          ...   \n",
       "94          347    19170.07       23357.02       42436.78     42435.39   \n",
       "95          289    18514.43       22563.10       40984.81     40982.92   \n",
       "96          375    17304.08       21087.59       38308.28     38304.65   \n",
       "97          412    18226.30       22211.07       40346.49     40348.37   \n",
       "98          471    18407.56       19829.31       55447.87     40739.78   \n",
       "\n",
       "    MerchRev   StaffHours  Sign_Ups2022  Fireworks Spec_Event  DailyGrossRev  \\\n",
       "0   34775.54   922.846054            32          1          1      138250.61   \n",
       "1   21315.35   565.828102            19          0          1      103408.71   \n",
       "2   25726.56   682.831533            22          0          4      102285.09   \n",
       "3   27120.90   719.770323            25          0          4      107836.25   \n",
       "4   19952.06   529.510078            18          0          3       79321.23   \n",
       "..       ...          ...           ...        ...        ...            ...   \n",
       "94  47089.31  1163.236703            77          0          5      171503.71   \n",
       "95  51518.10  1123.555994            93          0          1      165643.57   \n",
       "96  48504.75  1050.101320            77          1          2      154805.40   \n",
       "97  52718.03  1106.061363            83          0          5      163065.68   \n",
       "98  49912.88  1033.587580           129          1          1      138250.61   \n",
       "\n",
       "    day_type  \n",
       "0   Sunshine  \n",
       "1   Sunshine  \n",
       "2       Rain  \n",
       "3    Sunless  \n",
       "4   Sunshine  \n",
       "..       ...  \n",
       "94      Rain  \n",
       "95   Sunless  \n",
       "96  Sunshine  \n",
       "97   Sunless  \n",
       "98  Sunshine  \n",
       "\n",
       "[99 rows x 18 columns]"
      ]
     },
     "execution_count": 97,
     "metadata": {},
     "output_type": "execute_result"
    }
   ],
   "source": [
    "lobsterland"
   ]
  },
  {
   "cell_type": "markdown",
   "id": "38204873",
   "metadata": {},
   "source": [
    "K.Min has been removed"
   ]
  },
  {
   "cell_type": "code",
   "execution_count": 98,
   "id": "d33b19d8",
   "metadata": {},
   "outputs": [
    {
     "data": {
      "image/png": "[encoded data removed]",
      "text/plain": [
       "<Figure size 432x288 with 1 Axes>"
      ]
     },
     "metadata": {
      "needs_background": "light"
     },
     "output_type": "display_data"
    }
   ],
   "source": [
    "sns.boxplot( y=lobsterland[\"DailyGrossRev\"], x=lobsterland[\"Day.of.Week\"] );\n",
    "plt.show()"
   ]
  },
  {
   "cell_type": "markdown",
   "id": "731e7eae",
   "metadata": {},
   "source": [
    "L.a)On Friday, lobster land has the highest average revenue, and during the weekend the average revenues are higher than the weekday. On Friday, after they have been through a tough week, people tend to have fun, therefore, the average revenue on Friday is the highest. On Sunday, some people need to prepare for the work/school day on Monday, therefore, Sunday has the lowest total revenue among these three days."
   ]
  },
  {
   "cell_type": "code",
   "execution_count": 99,
   "id": "4a577301",
   "metadata": {},
   "outputs": [
    {
     "data": {
      "text/plain": [
       "Text(0.5, 1.0, 'Parking Revenue Distribution')"
      ]
     },
     "execution_count": 99,
     "metadata": {},
     "output_type": "execute_result"
    },
    {
     "data": {
      "image/png": "[encoded data removed]",
      "text/plain": [
       "<Figure size 432x288 with 1 Axes>"
      ]
     },
     "metadata": {
      "needs_background": "light"
     },
     "output_type": "display_data"
    }
   ],
   "source": [
    "plt.hist(lobsterland['ParkingRev'], align='right', color='purple', edgecolor='black')\n",
    "plt.xlabel('Parking Revenue')\n",
    "plt.ylabel('# of days')\n",
    "plt.title('Parking Revenue Distribution')"
   ]
  },
  {
   "cell_type": "markdown",
   "id": "f966c0f2",
   "metadata": {},
   "source": [
    "M.Distribution chart is shown above"
   ]
  },
  {
   "cell_type": "code",
   "execution_count": 100,
   "id": "9811d0a1",
   "metadata": {},
   "outputs": [
    {
     "data": {
      "text/plain": [
       "Text(0.5, 1.0, 'Parking Revenue Distribution')"
      ]
     },
     "execution_count": 100,
     "metadata": {},
     "output_type": "execute_result"
    },
    {
     "data": {
      "image/png": "[encoded data removed]",
      "text/plain": [
       "<Figure size 432x288 with 1 Axes>"
      ]
     },
     "metadata": {
      "needs_background": "light"
     },
     "output_type": "display_data"
    }
   ],
   "source": [
    "plt.hist(lobsterland['ParkingRev'],bins=25, align='right', color='Yellow', edgecolor='black')\n",
    "plt.xlabel('Parking Revenue')\n",
    "plt.ylabel('# of days')\n",
    "plt.title('Parking Revenue Distribution')"
   ]
  },
  {
   "cell_type": "markdown",
   "id": "13627529",
   "metadata": {},
   "source": [
    "N.a)The second diagram shows a shorter rectangle, Some ranges have no rectangle. The graph with more bins can show greater detail. Moreover, but it can be difficult to discern the signal from the noise, it can prevent users from discovering useful patterns."
   ]
  },
  {
   "cell_type": "code",
   "execution_count": 101,
   "id": "28b0990f",
   "metadata": {},
   "outputs": [
    {
     "data": {
      "text/plain": [
       "<AxesSubplot:xlabel='ParkingRev', ylabel='Count'>"
      ]
     },
     "execution_count": 101,
     "metadata": {},
     "output_type": "execute_result"
    },
    {
     "data": {
      "image/png": "[encoded data removed]",
      "text/plain": [
       "<Figure size 432x288 with 1 Axes>"
      ]
     },
     "metadata": {
      "needs_background": "light"
     },
     "output_type": "display_data"
    }
   ],
   "source": [
    "sns.histplot(data=lobsterland, x='ParkingRev', hue=\"Spec_Event\")"
   ]
  },
  {
   "cell_type": "markdown",
   "id": "f057d5df",
   "metadata": {},
   "source": [
    "N.b)When Comedy show events are held in the park, less parking revenue are made at the most time. When there are no events held in the park, parking revenue is really high in a range between 20000 and 22000."
   ]
  },
  {
   "cell_type": "code",
   "execution_count": 105,
   "id": "a38b0f24",
   "metadata": {},
   "outputs": [
    {
     "data": {
      "text/plain": [
       "<AxesSubplot:xlabel='Fireworks', ylabel='count'>"
      ]
     },
     "execution_count": 105,
     "metadata": {},
     "output_type": "execute_result"
    },
    {
     "data": {
      "image/png": "[encoded data removed]",
      "text/plain": [
       "<Figure size 432x288 with 1 Axes>"
      ]
     },
     "metadata": {
      "needs_background": "light"
     },
     "output_type": "display_data"
    }
   ],
   "source": [
    "sns.countplot(x ='Fireworks', data = lobsterland)"
   ]
  },
  {
   "cell_type": "markdown",
   "id": "67a111a2",
   "metadata": {},
   "source": [
    "O.It shows the days that park has fireworks and the days that don't have fireworks. During the summer 2020, more than 70 days the park doesn't have fireworks, and more than 20 days and less than 30 days, the park has fireworks."
   ]
  },
  {
   "cell_type": "code",
   "execution_count": 106,
   "id": "5d270107",
   "metadata": {},
   "outputs": [
    {
     "data": {
      "text/plain": [
       "<AxesSubplot:xlabel='Fireworks', ylabel='DailyGrossRev'>"
      ]
     },
     "execution_count": 106,
     "metadata": {},
     "output_type": "execute_result"
    },
    {
     "data": {
      "image/png": "[encoded data removed]",
      "text/plain": [
       "<Figure size 432x288 with 1 Axes>"
      ]
     },
     "metadata": {
      "needs_background": "light"
     },
     "output_type": "display_data"
    }
   ],
   "source": [
    "sns.barplot(x=\"Fireworks\", y=\"DailyGrossRev\", data=lobsterland)"
   ]
  },
  {
   "cell_type": "markdown",
   "id": "670d648c",
   "metadata": {},
   "source": [
    "P.It compares the profitability between the park with fireworks and the park without fireworks.Apparently, Fireworks can bring the park more revenue."
   ]
  },
  {
   "cell_type": "code",
   "execution_count": 107,
   "id": "e73d7de2",
   "metadata": {},
   "outputs": [
    {
     "data": {
      "text/plain": [
       "<AxesSubplot:xlabel='Day.of.Week', ylabel='DailyGrossRev'>"
      ]
     },
     "execution_count": 107,
     "metadata": {},
     "output_type": "execute_result"
    },
    {
     "data": {
      "image/png": "[encoded data removed]",
      "text/plain": [
       "<Figure size 432x288 with 1 Axes>"
      ]
     },
     "metadata": {
      "needs_background": "light"
     },
     "output_type": "display_data"
    }
   ],
   "source": [
    "sns.barplot(x=\"Day.of.Week\", y=\"DailyGrossRev\",hue='Fireworks', data=lobsterland)"
   ]
  },
  {
   "cell_type": "markdown",
   "id": "2c812eeb",
   "metadata": {},
   "source": [
    "Q.It shows the daily gross revenue of each day of the week with fireworks and the daily gross revenue of each day of the week without fireworks. On Friday, Saturday, Sunday, and Monday, the park make more revenue with firework shows. On Wednesday, The parks make less revenue with fireworks. On Tuesday and Thursday, the park has no fireworks. This graph can help the decision-maker to decide which day they should have fireworks to increase revenue, and which day they should cancel the fireworks. The previous diagram can not reveal this insight. "
   ]
  },
  {
   "cell_type": "code",
   "execution_count": null,
   "id": "09000c00",
   "metadata": {},
   "outputs": [],
   "source": []
  }
 ],
 "metadata": {
  "kernelspec": {
   "display_name": "Python 3",
   "language": "python",
   "name": "python3"
  },
  "language_info": {
   "codemirror_mode": {
    "name": "ipython",
    "version": 3
   },
   "file_extension": ".py",
   "mimetype": "text/x-python",
   "name": "python",
   "nbconvert_exporter": "python",
   "pygments_lexer": "ipython3",
   "version": "3.8.8"
  }
 },
 "nbformat": 4,
 "nbformat_minor": 5
}
